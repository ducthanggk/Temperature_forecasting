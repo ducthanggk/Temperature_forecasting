{
  "nbformat": 4,
  "nbformat_minor": 0,
  "metadata": {
    "colab": {
      "provenance": []
    },
    "kernelspec": {
      "name": "python3",
      "display_name": "Python 3"
    },
    "language_info": {
      "name": "python"
    }
  },
  "cells": [
    {
      "cell_type": "code",
      "execution_count": null,
      "metadata": {
        "id": "3yuMFTDzPZMB"
      },
      "outputs": [],
      "source": [
        "!wget https://s3.amazonaws.com/keras-datasets/jena_climate_2009_2016.csv.zip\n",
        "!unzip jena_climate_2009_2016.csv.zip"
      ]
    },
    {
      "cell_type": "code",
      "source": [
        "import os\n",
        "fname = os.path.join(\"jena_climate_2009_2016.csv\")\n",
        "with open(fname) as f:\n",
        " data = f.read()\n",
        "lines = data.split(\"\\n\")\n",
        "header = lines[0].split(\",\")\n",
        "lines = lines[1:]\n",
        "print(header)\n",
        "print(len(lines))"
      ],
      "metadata": {
        "id": "ob1VMgewPx_y",
        "colab": {
          "base_uri": "https://localhost:8080/"
        },
        "outputId": "e91cacfd-73eb-466f-de26-c0da5ae3a9fd"
      },
      "execution_count": null,
      "outputs": [
        {
          "output_type": "stream",
          "name": "stdout",
          "text": [
            "['\"Date Time\"', '\"p (mbar)\"', '\"T (degC)\"', '\"Tpot (K)\"', '\"Tdew (degC)\"', '\"rh (%)\"', '\"VPmax (mbar)\"', '\"VPact (mbar)\"', '\"VPdef (mbar)\"', '\"sh (g/kg)\"', '\"H2OC (mmol/mol)\"', '\"rho (g/m**3)\"', '\"wv (m/s)\"', '\"max. wv (m/s)\"', '\"wd (deg)\"']\n",
            "420451\n"
          ]
        }
      ]
    },
    {
      "cell_type": "code",
      "source": [
        "import numpy as np\n",
        "temperature = np.zeros(len(lines),)\n",
        "raw_data = np.zeros((len(lines), len(header) - 1))\n",
        "for i, line in enumerate(lines):\n",
        "  values = [float(x) for x in line.split(\",\")[1:]]\n",
        "  temperature[i] = values[1]\n",
        "  raw_data[i:] = values[:]"
      ],
      "metadata": {
        "id": "xAm7grFuQ3S9"
      },
      "execution_count": null,
      "outputs": []
    },
    {
      "cell_type": "code",
      "source": [
        "from matplotlib import pyplot as plt\n",
        "plt.plot(range(len(temperature)), temperature)\n",
        "plt.show()\n",
        "plt.plot(range(1440), temperature[:1440])"
      ],
      "metadata": {
        "id": "L1y1yfuRSOWv"
      },
      "execution_count": null,
      "outputs": []
    },
    {
      "cell_type": "markdown",
      "source": [],
      "metadata": {
        "id": "A69sIQwC0wIg"
      }
    },
    {
      "cell_type": "code",
      "source": [
        "# define a number train, val, test dataset\n",
        "num_train_samples = int(0.5 * len(raw_data))\n",
        "num_val_samples = int(0.25 * len(raw_data))\n",
        "num_test_samples = len(raw_data) - num_train_samples - num_train_samples\n",
        "\n",
        "# Normalizing the data\n",
        "mean = raw_data[:num_train_samples].mean(axis=0)\n",
        "raw_data -= mean\n",
        "std = raw_data[:num_train_samples].std(axis=0)\n",
        "raw_data /= std"
      ],
      "metadata": {
        "id": "ssZu-n6XUma9"
      },
      "execution_count": null,
      "outputs": []
    },
    {
      "cell_type": "code",
      "source": [
        "# Instantiating datasets for training, validation, and testing\n",
        "from tensorflow import keras\n",
        "\n",
        "sampling_rate = 6\n",
        "sequence_length = 120\n",
        "delay = sampling_rate * (sequence_length + 24 -1)\n",
        "batch_size = 256\n",
        "\n",
        "train_dataset = keras.utils.timeseries_dataset_from_array(\n",
        "    raw_data[:-delay],\n",
        "    targets=temperature[delay:],\n",
        "    sampling_rate=sampling_rate,\n",
        "    sequence_length=sequence_length,\n",
        "    shuffle=True,\n",
        "    batch_size=batch_size,\n",
        "    start_index=0,\n",
        "    end_index=num_train_samples)\n",
        "\n",
        "val_dataset = keras.utils.timeseries_dataset_from_array(\n",
        " raw_data[:-delay],\n",
        " targets=temperature[delay:],\n",
        " sampling_rate=sampling_rate,\n",
        " sequence_length=sequence_length,\n",
        " shuffle=True,\n",
        " batch_size=batch_size,\n",
        " start_index=num_train_samples,\n",
        " end_index=num_train_samples + num_val_samples)\n",
        "\n",
        "test_dataset = keras.utils.timeseries_dataset_from_array(\n",
        " raw_data[:-delay],\n",
        " targets=temperature[delay:],\n",
        " sampling_rate=sampling_rate,\n",
        " sequence_length=sequence_length,\n",
        " shuffle=True,\n",
        " batch_size=batch_size,\n",
        " start_index=num_train_samples + num_val_samples)\n"
      ],
      "metadata": {
        "id": "KpYHDjL8YECo"
      },
      "execution_count": null,
      "outputs": []
    },
    {
      "cell_type": "code",
      "source": [
        "# Compute the common-sense baseline MAE\n",
        "\n",
        "def evaluate_naive_method(dataset):\n",
        " total_abs_err = 0.\n",
        " samples_seen = 0\n",
        " for samples, targets in dataset:\n",
        " preds = samples[:, -1, 1] * std[1] + mean[1]\n",
        " total_abs_err += np.sum(np.abs(preds - targets))\n",
        " samples_seen += samples.shape[0]\n",
        " return total_abs_err / samples_seen\n",
        "print(f\"Validation MAE: {evaluate_naive_method(val_dataset):.2f}\")\n",
        "print(f\"Test MAE: {evaluate_naive_method(test_dataset):.2f}\")"
      ],
      "metadata": {
        "id": "gXkcCi6ieghw",
        "colab": {
          "base_uri": "https://localhost:8080/",
          "height": 130
        },
        "outputId": "50abf417-8034-4c37-c1d1-e8417ec84c94"
      },
      "execution_count": null,
      "outputs": [
        {
          "output_type": "error",
          "ename": "IndentationError",
          "evalue": "ignored",
          "traceback": [
            "\u001b[0;36m  File \u001b[0;32m\"<ipython-input-8-a0adcb7b1cd5>\"\u001b[0;36m, line \u001b[0;32m7\u001b[0m\n\u001b[0;31m    preds = samples[:, -1, 1] * std[1] + mean[1]\u001b[0m\n\u001b[0m        ^\u001b[0m\n\u001b[0;31mIndentationError\u001b[0m\u001b[0;31m:\u001b[0m expected an indented block\n"
          ]
        }
      ]
    },
    {
      "cell_type": "code",
      "source": [
        "from tensorflow.python.module.module import valid_identifier\n",
        "# Training and evaluating a densely connected model\n",
        "\n",
        "from tensorflow import keras\n",
        "from tensorflow.keras import layers\n",
        "\n",
        "inputs = keras.Input(shape=(sequence_length, raw_data.shape[-1]))\n",
        "x = layers.Flatten()(inputs)\n",
        "x = layers.Dense(16, activation=\"relu\")(x)\n",
        "outputs = layers.Dense(1)(x)\n",
        "model = keras.Model(inputs, outputs)\n",
        "\n",
        "callbacks = [\n",
        "    keras.callbacks.ModelCheckpoint(\"jena_dense.keras\",\n",
        "                                    save_best_only=True)\n",
        "]\n",
        "\n",
        "model.compile(optimizer=\"rmsprop\", loss=\"mse\", metrics=[\"mae\"])\n",
        "history = model.fit(train_dataset,\n",
        "                    epochs=10,\n",
        "                    validation_data=val_dataset,\n",
        "                    callbacks=callbacks)\n",
        "\n",
        "model = keras.models.load_model(\"jena_dense.keras\")\n",
        "print(f\"Test MAE: {model.evaluate(test_dataset)[1]:.2f}\")"
      ],
      "metadata": {
        "colab": {
          "base_uri": "https://localhost:8080/"
        },
        "id": "NZyEYjbQw8Xn",
        "outputId": "8c8c75aa-968a-45ad-f01d-d63843f40410"
      },
      "execution_count": null,
      "outputs": [
        {
          "output_type": "stream",
          "name": "stdout",
          "text": [
            "Epoch 1/10\n",
            "819/819 [==============================] - 42s 48ms/step - loss: 11.8469 - mae: 2.6683 - val_loss: 11.7233 - val_mae: 2.6950\n",
            "Epoch 2/10\n",
            "819/819 [==============================] - 38s 46ms/step - loss: 8.7941 - mae: 2.3314 - val_loss: 10.1531 - val_mae: 2.5036\n",
            "Epoch 3/10\n",
            "819/819 [==============================] - 38s 46ms/step - loss: 8.1036 - mae: 2.2360 - val_loss: 10.5561 - val_mae: 2.5612\n",
            "Epoch 4/10\n",
            "819/819 [==============================] - 39s 47ms/step - loss: 7.6788 - mae: 2.1760 - val_loss: 10.3065 - val_mae: 2.5185\n",
            "Epoch 5/10\n",
            "819/819 [==============================] - 38s 47ms/step - loss: 7.3880 - mae: 2.1348 - val_loss: 10.5079 - val_mae: 2.5410\n",
            "Epoch 6/10\n",
            "819/819 [==============================] - 38s 46ms/step - loss: 7.2065 - mae: 2.1076 - val_loss: 11.1470 - val_mae: 2.6287\n",
            "Epoch 7/10\n",
            "819/819 [==============================] - 38s 46ms/step - loss: 7.0212 - mae: 2.0814 - val_loss: 10.7742 - val_mae: 2.5690\n",
            "Epoch 8/10\n",
            "819/819 [==============================] - 39s 48ms/step - loss: 6.8902 - mae: 2.0611 - val_loss: 10.5876 - val_mae: 2.5480\n",
            "Epoch 9/10\n",
            "819/819 [==============================] - 38s 46ms/step - loss: 6.7490 - mae: 2.0410 - val_loss: 11.2183 - val_mae: 2.6476\n",
            "Epoch 10/10\n",
            "819/819 [==============================] - 47s 57ms/step - loss: 6.6517 - mae: 2.0272 - val_loss: 12.5942 - val_mae: 2.7940\n",
            "405/405 [==============================] - 13s 31ms/step - loss: 11.3980 - mae: 2.6664\n",
            "Test MAE: 2.67\n"
          ]
        }
      ]
    },
    {
      "cell_type": "code",
      "source": [
        "import matplotlib.pyplot as plt\n",
        "loss = history.history[\"mae\"]\n",
        "val_loss = history.history[\"val_mae\"]\n",
        "epochs = range(1, len(loss) + 1)\n",
        "plt.figure()\n",
        "plt.plot(epochs, loss, \"bo\", label=\"Training MAE\")\n",
        "plt.plot(epochs, val_loss, \"b\", label=\"Validation MAE\")\n",
        "plt.title(\"Training and validation MAE\")\n",
        "plt.legend()\n",
        "plt.show()"
      ],
      "metadata": {
        "colab": {
          "base_uri": "https://localhost:8080/",
          "height": 281
        },
        "id": "f7bae71tztKT",
        "outputId": "f004bff1-57a2-4cc1-95aa-acb0ffd4fbaa"
      },
      "execution_count": null,
      "outputs": [
        {
          "output_type": "display_data",
          "data": {
            "text/plain": [
              "<Figure size 432x288 with 1 Axes>"
            ],
            "image/png": "[encoded data removed]"
          },
          "metadata": {
            "needs_background": "light"
          }
        }
      ]
    },
    {
      "cell_type": "code",
      "source": [
        "# use Conv1D and maxpooling for layers\n",
        "inputs = keras.Input(shape=(sequence_length, raw_data.shape[-1]))\n",
        "x = layers.Conv1D(8, 24, activation=\"relu\")(inputs)\n",
        "x = layers.MaxPooling1D(2)(x)\n",
        "x = layers.Conv1D(8, 12, activation=\"relu\")(x)\n",
        "x = layers.MaxPooling1D(2)(x)\n",
        "x = layers.Conv1D(8, 6, activation=\"relu\")(x)\n",
        "x = layers.GlobalAveragePooling1D()(x)\n",
        "outputs = layers.Dense(1)(x)\n",
        "model = keras.Model(inputs, outputs)\n",
        "callbacks = [\n",
        " keras.callbacks.ModelCheckpoint(\"jena_conv.keras\",\n",
        " save_best_only=True)\n",
        "]\n",
        "model.compile(optimizer=\"rmsprop\", loss=\"mse\", metrics=[\"mae\"])\n",
        "history = model.fit(train_dataset,\n",
        " epochs=10,\n",
        " validation_data=val_dataset,\n",
        " callbacks=callbacks)\n",
        "model = keras.models.load_model(\"jena_conv.keras\")\n",
        "print(f\"Test MAE: {model.evaluate(test_dataset)[1]:.2f}\")"
      ],
      "metadata": {
        "colab": {
          "base_uri": "https://localhost:8080/"
        },
        "id": "IspPNsHs3N_P",
        "outputId": "65900ff0-d4c5-4238-cbf3-f151504359cf"
      },
      "execution_count": null,
      "outputs": [
        {
          "output_type": "stream",
          "name": "stdout",
          "text": [
            "Epoch 1/10\n",
            "819/819 [==============================] - 47s 49ms/step - loss: 22.7086 - mae: 3.7513 - val_loss: 16.6762 - val_mae: 3.2632\n",
            "Epoch 2/10\n",
            "819/819 [==============================] - 40s 49ms/step - loss: 15.9681 - mae: 3.1748 - val_loss: 16.9935 - val_mae: 3.2421\n",
            "Epoch 3/10\n",
            "819/819 [==============================] - 40s 48ms/step - loss: 14.4462 - mae: 3.0107 - val_loss: 15.6569 - val_mae: 3.1476\n",
            "Epoch 4/10\n",
            "819/819 [==============================] - 40s 48ms/step - loss: 13.5934 - mae: 2.9186 - val_loss: 14.7425 - val_mae: 3.0341\n",
            "Epoch 5/10\n",
            "819/819 [==============================] - 40s 49ms/step - loss: 12.9501 - mae: 2.8427 - val_loss: 14.9592 - val_mae: 3.0484\n",
            "Epoch 6/10\n",
            "819/819 [==============================] - 41s 49ms/step - loss: 12.4787 - mae: 2.7922 - val_loss: 14.4913 - val_mae: 2.9914\n",
            "Epoch 7/10\n",
            "819/819 [==============================] - 40s 48ms/step - loss: 12.0760 - mae: 2.7473 - val_loss: 15.5891 - val_mae: 3.1233\n",
            "Epoch 8/10\n",
            "819/819 [==============================] - 40s 48ms/step - loss: 11.7926 - mae: 2.7141 - val_loss: 14.6400 - val_mae: 3.0093\n",
            "Epoch 9/10\n",
            "819/819 [==============================] - 42s 51ms/step - loss: 11.4932 - mae: 2.6799 - val_loss: 15.8588 - val_mae: 3.1409\n",
            "Epoch 10/10\n",
            "819/819 [==============================] - 42s 51ms/step - loss: 11.2759 - mae: 2.6559 - val_loss: 15.2171 - val_mae: 3.0747\n",
            "405/405 [==============================] - 13s 32ms/step - loss: 16.2588 - mae: 3.1944\n",
            "Test MAE: 3.19\n"
          ]
        }
      ]
    },
    {
      "cell_type": "code",
      "source": [
        "import matplotlib.pyplot as plt\n",
        "loss = history.history[\"mae\"]\n",
        "val_loss = history.history[\"val_mae\"]\n",
        "epochs = range(1, len(loss) + 1)\n",
        "plt.figure()\n",
        "plt.plot(epochs, loss, \"bo\", label=\"Training MAE\")\n",
        "plt.plot(epochs, val_loss, \"b\", label=\"Validation MAE\")\n",
        "plt.title(\"Training and validation MAE\")\n",
        "plt.legend()\n",
        "plt.show()"
      ],
      "metadata": {
        "id": "EervQvBn4j62"
      },
      "execution_count": null,
      "outputs": []
    },
    {
      "cell_type": "code",
      "source": [
        "# Use Long Sort Term Memory (LSTM)\n",
        "inputs = keras.Input(shape=(sequence_length, raw_data.shape[-1]))\n",
        "x = layers.LSTM(16)(inputs)\n",
        "outputs = layers.Dense(1)(x)\n",
        "model = keras.Model(inputs, outputs)\n",
        "callbacks = [\n",
        " keras.callbacks.ModelCheckpoint(\"jena_lstm.keras\",\n",
        " save_best_only=True)\n",
        "]\n",
        "model.compile(optimizer=\"rmsprop\", loss=\"mse\", metrics=[\"mae\"])\n",
        "history = model.fit(train_dataset,\n",
        " epochs=10,\n",
        " validation_data=val_dataset,\n",
        " callbacks=callbacks)\n",
        "model = keras.models.load_model(\"jena_lstm.keras\")\n",
        "print(f\"Test MAE: {model.evaluate(test_dataset)[1]:.2f}\")\n"
      ],
      "metadata": {
        "colab": {
          "base_uri": "https://localhost:8080/"
        },
        "id": "k6R-Wdl85ByZ",
        "outputId": "44fac554-886d-4c23-8722-d5145fbabe80"
      },
      "execution_count": null,
      "outputs": [
        {
          "output_type": "stream",
          "name": "stdout",
          "text": [
            "Epoch 1/10\n",
            "819/819 [==============================] - 46s 53ms/step - loss: 40.0879 - mae: 4.6010 - val_loss: 12.2592 - val_mae: 2.6734\n",
            "Epoch 2/10\n",
            "819/819 [==============================] - 43s 52ms/step - loss: 11.0932 - mae: 2.5831 - val_loss: 9.9019 - val_mae: 2.4439\n",
            "Epoch 3/10\n",
            "819/819 [==============================] - 43s 52ms/step - loss: 9.9374 - mae: 2.4544 - val_loss: 9.6610 - val_mae: 2.4041\n",
            "Epoch 4/10\n",
            "819/819 [==============================] - 43s 52ms/step - loss: 9.5004 - mae: 2.3982 - val_loss: 9.5100 - val_mae: 2.3844\n",
            "Epoch 5/10\n",
            "819/819 [==============================] - 43s 52ms/step - loss: 9.2485 - mae: 2.3632 - val_loss: 9.6336 - val_mae: 2.3953\n",
            "Epoch 6/10\n",
            "819/819 [==============================] - 44s 53ms/step - loss: 9.0162 - mae: 2.3293 - val_loss: 10.0067 - val_mae: 2.4326\n",
            "Epoch 7/10\n",
            "819/819 [==============================] - 42s 52ms/step - loss: 8.8471 - mae: 2.3028 - val_loss: 10.3906 - val_mae: 2.4710\n",
            "Epoch 8/10\n",
            "819/819 [==============================] - 42s 51ms/step - loss: 8.6536 - mae: 2.2762 - val_loss: 10.2333 - val_mae: 2.4633\n",
            "Epoch 9/10\n",
            "819/819 [==============================] - 44s 53ms/step - loss: 8.5227 - mae: 2.2611 - val_loss: 10.2476 - val_mae: 2.4587\n",
            "Epoch 10/10\n",
            "819/819 [==============================] - 42s 51ms/step - loss: 8.4235 - mae: 2.2483 - val_loss: 10.2980 - val_mae: 2.4668\n",
            "405/405 [==============================] - 14s 32ms/step - loss: 10.9081 - mae: 2.5726\n",
            "Test MAE: 2.57\n"
          ]
        }
      ]
    }
  ]
}